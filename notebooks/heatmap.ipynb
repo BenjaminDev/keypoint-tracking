{
 "cells": [
  {
   "cell_type": "code",
   "execution_count": 28,
   "source": [
    "import numpy as np\n",
    "import sys\n",
    "sys.path.append(\"../\")\n",
    "from data_loader import KeypointsDataset, KeypointsDataModule"
   ],
   "outputs": [],
   "metadata": {}
  },
  {
   "cell_type": "code",
   "execution_count": 29,
   "source": [
    "\t\n",
    "class HeatmapGenerator():\n",
    "    def __init__(self, output_res, num_joints, sigma=-1):\n",
    "        self.output_res = output_res\n",
    "        self.num_joints = num_joints\n",
    "        if sigma < 0:\n",
    "            sigma = self.output_res/64\n",
    "        self.sigma = sigma\n",
    "        size = 6*sigma + 3\n",
    "        x = np.arange(0, size, 1, float)\n",
    "        y = x[:, np.newaxis]\n",
    "        x0, y0 = 3*sigma + 1, 3*sigma + 1\n",
    "        self.g = np.exp(- ((x - x0) ** 2 + (y - y0) ** 2) / (2 * sigma ** 2))\n",
    "\n",
    "    def __call__(self, joints):\n",
    "        hms = np.zeros((self.num_joints, self.output_res, self.output_res),\n",
    "                       dtype=np.float32)\n",
    "        sigma = self.sigma\n",
    "        for p in joints:\n",
    "            for idx, pt in enumerate(p):\n",
    "                print(pt)\n",
    "                if pt[2] > 0:\n",
    "                    x, y = int(pt[0]), int(pt[1])\n",
    "                    if x < 0 or y < 0 or \\\n",
    "                       x >= self.output_res or y >= self.output_res:\n",
    "                        continue\n",
    "\n",
    "                    ul = int(np.round(x - 3 * sigma - 1)), int(np.round(y - 3 * sigma - 1))\n",
    "                    br = int(np.round(x + 3 * sigma + 2)), int(np.round(y + 3 * sigma + 2))\n",
    "\n",
    "                    c, d = max(0, -ul[0]), min(br[0], self.output_res) - ul[0]\n",
    "                    a, b = max(0, -ul[1]), min(br[1], self.output_res) - ul[1]\n",
    "\n",
    "                    cc, dd = max(0, ul[0]), min(br[0], self.output_res)\n",
    "                    aa, bb = max(0, ul[1]), min(br[1], self.output_res)\n",
    "                    hms[idx, aa:bb, cc:dd] = np.maximum(\n",
    "                        hms[idx, aa:bb, cc:dd], self.g[a:b, c:d])\n",
    "        return hms"
   ],
   "outputs": [],
   "metadata": {}
  },
  {
   "cell_type": "code",
   "execution_count": 30,
   "source": [
    "data_dirs=[\"/mnt/vol_b/training_data/clean/0004-bare-feet/source/v001\"]\n",
    "input_size=(480, 480)\n",
    "dm = KeypointsDataModule(data_dirs, input_size)\n",
    "# ds = KeypointsDataset(data_path=Path(\"/mnt/vol_b/clean_data/tmp2\"))\n",
    "dm.setup(\"fit\")\n",
    "dl = dm.train_dataloader()\n",
    "\n"
   ],
   "outputs": [],
   "metadata": {}
  },
  {
   "cell_type": "code",
   "execution_count": 34,
   "source": [
    "image, target = next(iter(dl))"
   ],
   "outputs": [],
   "metadata": {}
  },
  {
   "cell_type": "code",
   "execution_count": 32,
   "source": [
    "\n",
    "h=HeatmapGenerator(480, 1)"
   ],
   "outputs": [],
   "metadata": {}
  },
  {
   "cell_type": "code",
   "execution_count": 59,
   "source": [
    "from torch.nn import MSELoss\n",
    "criterion = MSELoss(reduction=\"sum\")\n",
    "criterion(target[0][0], target[0][0])\n"
   ],
   "outputs": [
    {
     "output_type": "execute_result",
     "data": {
      "text/plain": [
       "tensor(0.)"
      ]
     },
     "metadata": {},
     "execution_count": 59
    }
   ],
   "metadata": {}
  },
  {
   "cell_type": "code",
   "execution_count": 55,
   "source": [
    "from torch import nn\n",
    "import torch\n",
    "class HeatmapLoss(nn.Module):\n",
    "    def __init__(self):\n",
    "        super().__init__()\n",
    "        \n",
    "    def forward(self, pred, gt, mask=None, scale=1.0):\n",
    "        assert pred.size() == gt.size()\n",
    "\n",
    "        dis = gt.clone()\n",
    "        dis = torch.where(torch.gt(gt, 0), gt, gt + 1)\n",
    "        dis = torch.log(dis)\n",
    "\n",
    "        scaled_gt = gt + gt*dis*scale + 0.5*gt*dis**2*scale**2\n",
    "        weight = torch.abs(1-pred) * gt ** 0.01 + torch.abs(pred) * (1 - gt**0.01)\n",
    "\n",
    "        loss = (pred - scaled_gt)**2 * weight  #* mask[:,None].expand_as(gt)\n",
    "        print(loss.shape)\n",
    "        loss = loss.mean()\n",
    "\n",
    "        return loss"
   ],
   "outputs": [],
   "metadata": {}
  },
  {
   "cell_type": "code",
   "execution_count": 58,
   "source": [
    "# %%debug\n",
    "hmloss = HeatmapLoss()\n",
    "hmloss(target[0][0], target[0][0])"
   ],
   "outputs": [
    {
     "output_type": "stream",
     "name": "stdout",
     "text": [
      "torch.Size([12, 480, 480])\n"
     ]
    },
    {
     "output_type": "execute_result",
     "data": {
      "text/plain": [
       "tensor(20806.4082)"
      ]
     },
     "metadata": {},
     "execution_count": 58
    }
   ],
   "metadata": {}
  },
  {
   "cell_type": "code",
   "execution_count": 40,
   "source": [
    "plt.imshow(target[0][0][0].numpy())"
   ],
   "outputs": [
    {
     "output_type": "execute_result",
     "data": {
      "text/plain": [
       "<matplotlib.image.AxesImage at 0x7f850c3d4f10>"
      ]
     },
     "metadata": {},
     "execution_count": 40
    },
    {
     "output_type": "display_data",
     "data": {
      "text/plain": [
       "<Figure size 432x288 with 1 Axes>"
      ],
      "image/png": "[encoded data removed]"
     },
     "metadata": {
      "needs_background": "light"
     }
    }
   ],
   "metadata": {}
  },
  {
   "cell_type": "code",
   "execution_count": 19,
   "source": [
    "points = np.array([[[1.0,2., 1]]])\n",
    "g=h(points)"
   ],
   "outputs": [
    {
     "output_type": "stream",
     "name": "stdout",
     "text": [
      "[1. 2. 1.]\n"
     ]
    }
   ],
   "metadata": {}
  },
  {
   "cell_type": "code",
   "execution_count": 20,
   "source": [
    "import matplotlib.pyplot as plt\n",
    "plt.imshow(g[0,:,:])"
   ],
   "outputs": [
    {
     "output_type": "execute_result",
     "data": {
      "text/plain": [
       "<matplotlib.image.AxesImage at 0x7f8639564d00>"
      ]
     },
     "metadata": {},
     "execution_count": 20
    },
    {
     "output_type": "display_data",
     "data": {
      "text/plain": [
       "<Figure size 432x288 with 1 Axes>"
      ],
      "image/png": "[encoded data removed]"
     },
     "metadata": {
      "needs_background": "light"
     }
    }
   ],
   "metadata": {}
  },
  {
   "cell_type": "code",
   "execution_count": null,
   "source": [],
   "outputs": [],
   "metadata": {}
  }
 ],
 "metadata": {
  "orig_nbformat": 4,
  "language_info": {
   "name": "python",
   "version": "3.8.10",
   "mimetype": "text/x-python",
   "codemirror_mode": {
    "name": "ipython",
    "version": 3
   },
   "pygments_lexer": "ipython3",
   "nbconvert_exporter": "python",
   "file_extension": ".py"
  },
  "kernelspec": {
   "name": "python3",
   "display_name": "Python 3.8.10 64-bit ('.venv': venv)"
  },
  "interpreter": {
   "hash": "d6425c510aa26e44db4fa9fcf479b3d045a9cb39df9e629f870831eed81560f7"
  }
 },
 "nbformat": 4,
 "nbformat_minor": 2
}