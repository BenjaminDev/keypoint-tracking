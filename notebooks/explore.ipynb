{
 "cells": [
  {
   "cell_type": "code",
   "execution_count": 1,
   "metadata": {},
   "outputs": [],
   "source": [
    "import pandas as pd\n",
    "import json\n",
    "from pathlib import Path\n",
    "import sys\n",
    "from PIL import Image, ImageDraw\n",
    "sys.path.append(\"../\")\n",
    "from utils import read_meta, MetaData, KeypointInfo"
   ]
  },
  {
   "cell_type": "code",
   "execution_count": null,
   "metadata": {},
   "outputs": [],
   "source": []
  },
  {
   "cell_type": "code",
   "execution_count": 2,
   "metadata": {},
   "outputs": [],
   "source": [
    "def json_to_df(path:Path)->pd.DataFrame:\n",
    "    cols = [\"image_path\", \"frame_no\", \"model_name\"]\n",
    "    # cols.extend([o for o in KeypointInfo._fields])\n",
    "    cols.extend([f\"kp_{i}\" for i in range(12)])\n",
    "    df =  pd.DataFrame(columns=cols)\n",
    "\n",
    "    for i, fn in enumerate(path.glob(\"*.json\")):\n",
    "        meta_data = read_meta(fn)\n",
    "        image_path = meta_data.source[\"image\"]\n",
    "        model_name = meta_data.source[\"object_id\"]\n",
    "        frame_no = int(image_path.split(\"/\")[-1].split(\"_\")[-1].split(\".\")[0])\n",
    "        d = [image_path, frame_no, model_name]\n",
    "        d.extend(meta_data.keypoints)\n",
    "        df.loc[i] = d\n",
    "        # print(meta_data)\n",
    "        # break\n",
    "    return df\n"
   ]
  },
  {
   "cell_type": "code",
   "execution_count": 13,
   "metadata": {},
   "outputs": [
    {
     "name": "stderr",
     "output_type": "stream",
     "text": [
      "/Users/benjamin/.pyenv/versions/3.8.6/envs/ml38/lib/python3.8/site-packages/numpy/core/_asarray.py:83: VisibleDeprecationWarning:\n",
      "\n",
      "Creating an ndarray from ragged nested sequences (which is a list-or-tuple of lists-or-tuples-or ndarrays with different lengths or shapes) is deprecated. If you meant to do this, you must specify 'dtype=object' when creating the ndarray\n",
      "\n"
     ]
    }
   ],
   "source": [
    "input_data_name=\"IMG_1094\"\n",
    "ref_data_path= Path(f\"../results/{input_data_name}/annotated/ref/\")\n",
    "test_data_path = Path(f\"../results/{input_data_name}/annotated/test/\")\n",
    "df_ref = json_to_df(ref_data_path)\n",
    "df_test = json_to_df(test_data_path)\n",
    "\n",
    "df_ref = df_ref.add_prefix(\"ref_\")\n",
    "df_test = df_test.add_prefix(\"test_\")\n",
    "df_comb = pd.concat([df_ref,df_test], axis=1)\n",
    "\n",
    "ref_model_name = df_comb[\"ref_model_name\"].unique()[0]\n",
    "test_model_name = df_comb[\"test_model_name\"].unique()[0].split(\"/\")[-1]\n",
    "\n",
    "\n",
    "dst_dir = f\"../comparisons/{input_data_name}/{test_model_name}\"\n",
    "Path(dst_dir).mkdir(parents=True, exist_ok=True)\n",
    "\n",
    "assert all(df_comb[[\"ref_frame_no\", \"test_frame_no\"]].apply(lambda x: x[0]==x[1], axis=1))\n",
    "assert len(df_comb[\"ref_model_name\"].unique()) == 1\n",
    "assert len(df_comb[\"ref_model_name\"].unique()) == 1"
   ]
  },
  {
   "cell_type": "code",
   "execution_count": 14,
   "metadata": {},
   "outputs": [
    {
     "data": {
      "text/plain": [
       "'3773fy6g - 2021-10-10T12:06:19.844863'"
      ]
     },
     "execution_count": 14,
     "metadata": {},
     "output_type": "execute_result"
    }
   ],
   "source": [
    "test_model_name.split(\"/\")[-1]"
   ]
  },
  {
   "cell_type": "code",
   "execution_count": 15,
   "metadata": {},
   "outputs": [],
   "source": [
    "from functools import partial\n",
    "def pixel_distance(x_ratio, y_ratio, p1, p2)->float:\n",
    "    return ((p1[0]-p2[0])**2 + (p1[1]-p2[1])**2)**0.5\n",
    "\n",
    "w,h = Image.open(f\"../{df_comb['ref_image_path'].loc[0]}\").size\n",
    "pixel_distance = partial(pixel_distance, x_ratio = (160/w), y_ratio=(160/h))\n",
    "for i in range(12):\n",
    "    df_comb[f\"diff_kp_{i}\"] = df_comb.apply(lambda x: pixel_distance(p1=x[f\"ref_kp_{i}\"],p2=x[f\"test_kp_{i}\"]), axis=1)"
   ]
  },
  {
   "cell_type": "code",
   "execution_count": 16,
   "metadata": {},
   "outputs": [],
   "source": [
    "pd.options.plotting.backend = \"plotly\"\n",
    "cols=[]\n",
    "for i in range(12):\n",
    "    cols.append(f\"diff_kp_{i}\")\n",
    "df_comb[cols].plot()\n",
    "fig = df_comb[cols].describe().loc[[\"mean\", \"min\", \"max\", \"75%\"]].plot(kind=\"bar\", barmode='group', title=f\"{input_data_name} - {ref_model_name} {test_model_name}\")\n",
    "fig.write_html(f\"{dst_dir}/stats.html\")"
   ]
  },
  {
   "cell_type": "code",
   "execution_count": 17,
   "metadata": {},
   "outputs": [],
   "source": [
    "# fig.add_annotation()\n"
   ]
  },
  {
   "cell_type": "code",
   "execution_count": 18,
   "metadata": {},
   "outputs": [
    {
     "data": {
      "text/plain": [
       "'../comparisons/IMG_1094/3773fy6g - 2021-10-10T12:06:19.844863'"
      ]
     },
     "execution_count": 18,
     "metadata": {},
     "output_type": "execute_result"
    }
   ],
   "source": [
    "fig = df_comb[cols].plot(title=f\"{input_data_name} - {ref_model_name} {test_model_name}\")\n",
    "fig.write_html(f\"{dst_dir}/pixel_errors.html\")\n",
    "dst_dir"
   ]
  },
  {
   "cell_type": "code",
   "execution_count": 19,
   "metadata": {},
   "outputs": [],
   "source": [
    "worst_frames={}\n",
    "worst_n=10\n",
    "for c in cols:\n",
    "    info = df_comb[c].nlargest(worst_n).index.tolist()\n",
    "    errors = df_comb[c].nlargest(worst_n).tolist()\n",
    "\n",
    "    worst_frames[c]= list(zip(info, errors))\n"
   ]
  },
  {
   "cell_type": "code",
   "execution_count": 20,
   "metadata": {},
   "outputs": [
    {
     "name": "stdout",
     "output_type": "stream",
     "text": [
      "diff_kp_0: [(73, 27.730849247724095), (273, 26.627053911388696), (11, 25.059928172283335), (299, 24.413111231467404), (270, 24.186773244895647), (2, 23.323807579381203), (180, 22.825424421026653), (177, 16.0), (287, 16.0), (150, 15.231546211727817)]\n",
      "results/IMG_1094/frame_187.png\n",
      "results/IMG_1094/frame_189.png\n",
      "results/IMG_1094/frame_190.png\n",
      "results/IMG_1094/frame_193.png\n",
      "results/IMG_1094/frame_188.png\n",
      "results/IMG_1094/frame_186.png\n",
      "results/IMG_1094/frame_194.png\n",
      "results/IMG_1094/frame_045.png\n",
      "results/IMG_1094/frame_058.png\n",
      "results/IMG_1094/frame_162.png\n",
      "diff_kp_1: [(207, 104.5609869884557), (175, 104.10091258005379), (140, 98.79271228182775), (68, 57.48912940721924), (269, 27.0), (200, 20.248456731316587), (246, 19.849433241279208), (298, 19.79898987322333), (74, 19.026297590440446), (9, 18.439088914585774)]\n",
      "results/IMG_1094/frame_156.png\n",
      "results/IMG_1094/frame_157.png\n",
      "results/IMG_1094/frame_158.png\n",
      "results/IMG_1094/frame_129.png\n",
      "results/IMG_1094/frame_167.png\n",
      "results/IMG_1094/frame_253.png\n",
      "results/IMG_1094/frame_254.png\n",
      "results/IMG_1094/frame_255.png\n",
      "results/IMG_1094/frame_168.png\n",
      "results/IMG_1094/frame_256.png\n",
      "diff_kp_2: [(30, 75.28612089887484), (225, 11.40175425099138), (105, 10.816653826391969), (123, 10.0), (140, 9.486832980505138), (207, 9.486832980505138), (87, 9.219544457292887), (177, 8.602325267042627), (256, 8.602325267042627), (47, 8.48528137423857)]\n",
      "results/IMG_1094/frame_173.png\n",
      "results/IMG_1094/frame_048.png\n",
      "results/IMG_1094/frame_047.png\n",
      "results/IMG_1094/frame_046.png\n",
      "results/IMG_1094/frame_158.png\n",
      "results/IMG_1094/frame_156.png\n",
      "results/IMG_1094/frame_159.png\n",
      "results/IMG_1094/frame_045.png\n",
      "results/IMG_1094/frame_059.png\n",
      "results/IMG_1094/frame_060.png\n",
      "diff_kp_3: [(166, 12.529964086141668), (214, 12.529964086141668), (178, 12.206555615733702), (251, 12.083045973594572), (204, 12.041594578792296), (48, 12.0), (42, 11.661903789690601), (140, 11.661903789690601), (152, 11.40175425099138), (51, 11.180339887498949)]\n",
      "results/IMG_1094/frame_161.png\n",
      "results/IMG_1094/frame_160.png\n",
      "results/IMG_1094/frame_100.png\n",
      "results/IMG_1094/frame_215.png\n",
      "results/IMG_1094/frame_101.png\n",
      "results/IMG_1094/frame_125.png\n",
      "results/IMG_1094/frame_277.png\n",
      "results/IMG_1094/frame_158.png\n",
      "results/IMG_1094/frame_264.png\n",
      "results/IMG_1094/frame_099.png\n",
      "diff_kp_4: [(207, 89.05054744357274), (175, 85.98255637046388), (140, 81.54140052758476), (68, 45.60701700396552), (301, 20.396078054371138), (20, 19.6468827043885), (47, 18.681541692269406), (202, 18.384776310850235), (87, 17.88854381999832), (287, 17.72004514666935)]\n",
      "results/IMG_1094/frame_156.png\n",
      "results/IMG_1094/frame_157.png\n",
      "results/IMG_1094/frame_158.png\n",
      "results/IMG_1094/frame_129.png\n",
      "results/IMG_1094/frame_042.png\n",
      "results/IMG_1094/frame_057.png\n",
      "results/IMG_1094/frame_060.png\n",
      "results/IMG_1094/frame_228.png\n",
      "results/IMG_1094/frame_159.png\n",
      "results/IMG_1094/frame_058.png\n",
      "diff_kp_5: [(107, 73.49829930005184), (207, 68.60029154456998), (78, 64.20280367709809), (140, 62.20128616033595), (175, 62.00806399170998), (87, 61.07372593840988), (298, 22.360679774997898), (66, 22.02271554554524), (246, 21.02379604162864), (200, 19.72308292331602)]\n",
      "results/IMG_1094/frame_155.png\n",
      "results/IMG_1094/frame_156.png\n",
      "results/IMG_1094/frame_163.png\n",
      "results/IMG_1094/frame_158.png\n",
      "results/IMG_1094/frame_157.png\n",
      "results/IMG_1094/frame_159.png\n",
      "results/IMG_1094/frame_255.png\n",
      "results/IMG_1094/frame_257.png\n",
      "results/IMG_1094/frame_254.png\n",
      "results/IMG_1094/frame_253.png\n",
      "diff_kp_6: [(78, 137.92751719653333), (87, 136.34148304899725), (140, 136.34148304899725), (150, 136.19104228986575), (175, 133.98880550254935), (214, 132.07573584879245), (207, 130.92364186807515), (166, 130.38404810405297), (269, 48.093658625644196), (107, 23.08679276123039)]\n",
      "results/IMG_1094/frame_163.png\n",
      "results/IMG_1094/frame_159.png\n",
      "results/IMG_1094/frame_158.png\n",
      "results/IMG_1094/frame_162.png\n",
      "results/IMG_1094/frame_157.png\n",
      "results/IMG_1094/frame_160.png\n",
      "results/IMG_1094/frame_156.png\n",
      "results/IMG_1094/frame_161.png\n",
      "results/IMG_1094/frame_167.png\n",
      "results/IMG_1094/frame_155.png\n",
      "diff_kp_7: [(140, 152.64337522473747), (87, 148.5563866011825), (214, 142.22517358048822), (175, 138.63621460498698), (207, 136.88316185711082), (150, 134.23859355639868), (166, 134.18271125595876), (269, 106.47065323364932), (186, 77.20103626247513), (277, 51.97114584074513)]\n",
      "results/IMG_1094/frame_158.png\n",
      "results/IMG_1094/frame_159.png\n",
      "results/IMG_1094/frame_160.png\n",
      "results/IMG_1094/frame_157.png\n",
      "results/IMG_1094/frame_156.png\n",
      "results/IMG_1094/frame_162.png\n",
      "results/IMG_1094/frame_161.png\n",
      "results/IMG_1094/frame_167.png\n",
      "results/IMG_1094/frame_213.png\n",
      "results/IMG_1094/frame_218.png\n",
      "diff_kp_8: [(140, 135.4843164355196), (175, 135.4843164355196), (214, 134.52880732393342), (87, 133.98880550254935), (166, 133.6899397860587), (78, 133.4541119636259), (150, 130.92364186807515), (207, 125.39936203984452), (34, 71.02816342831905), (239, 70.7248188403477)]\n",
      "results/IMG_1094/frame_158.png\n",
      "results/IMG_1094/frame_157.png\n",
      "results/IMG_1094/frame_160.png\n",
      "results/IMG_1094/frame_159.png\n",
      "results/IMG_1094/frame_161.png\n",
      "results/IMG_1094/frame_163.png\n",
      "results/IMG_1094/frame_162.png\n",
      "results/IMG_1094/frame_156.png\n",
      "results/IMG_1094/frame_276.png\n",
      "results/IMG_1094/frame_278.png\n",
      "diff_kp_9: [(140, 124.82387592123551), (87, 123.4908903522847), (166, 123.17467272130257), (150, 121.79490958164057), (34, 55.47071299343465), (285, 55.47071299343465), (258, 27.459060435491963), (99, 25.495097567963924), (88, 24.041630560342615), (208, 22.135943621178654)]\n",
      "results/IMG_1094/frame_158.png\n",
      "results/IMG_1094/frame_159.png\n",
      "results/IMG_1094/frame_161.png\n",
      "results/IMG_1094/frame_162.png\n",
      "results/IMG_1094/frame_276.png\n",
      "results/IMG_1094/frame_275.png\n",
      "results/IMG_1094/frame_274.png\n",
      "results/IMG_1094/frame_207.png\n",
      "results/IMG_1094/frame_270.png\n",
      "results/IMG_1094/frame_269.png\n",
      "diff_kp_10: [(140, 129.86531484580476), (87, 129.5414991421668), (214, 126.77933585565118), (175, 125.36347155371855), (207, 124.80785231707178), (150, 122.64175471673585), (166, 120.41594578792295), (269, 65.03076195155643), (186, 60.876925020897694), (119, 55.326304774492215)]\n",
      "results/IMG_1094/frame_158.png\n",
      "results/IMG_1094/frame_159.png\n",
      "results/IMG_1094/frame_160.png\n",
      "results/IMG_1094/frame_157.png\n",
      "results/IMG_1094/frame_156.png\n",
      "results/IMG_1094/frame_162.png\n",
      "results/IMG_1094/frame_161.png\n",
      "results/IMG_1094/frame_167.png\n",
      "results/IMG_1094/frame_213.png\n",
      "results/IMG_1094/frame_154.png\n",
      "diff_kp_11: [(269, 82.29823813423954), (140, 50.15974481593781), (87, 44.77722635447622), (54, 42.5205832509386), (214, 40.70626487409524), (107, 37.69615364994153), (175, 37.16180835212409), (4, 36.76955262170047), (78, 35.35533905932738), (277, 35.11409973215888)]\n",
      "results/IMG_1094/frame_167.png\n",
      "results/IMG_1094/frame_158.png\n",
      "results/IMG_1094/frame_159.png\n",
      "results/IMG_1094/frame_164.png\n",
      "results/IMG_1094/frame_160.png\n",
      "results/IMG_1094/frame_155.png\n",
      "results/IMG_1094/frame_157.png\n",
      "results/IMG_1094/frame_217.png\n",
      "results/IMG_1094/frame_163.png\n",
      "results/IMG_1094/frame_218.png\n"
     ]
    }
   ],
   "source": [
    "    \n",
    "for k,v in worst_frames.items():\n",
    "    print(f\"{k}: {v}\")\n",
    "    worsts_image = Image.new(\"RGB\", (len(v)*160, 160*2))\n",
    "\n",
    "    x_offset = 0\n",
    "    for i, error in v:\n",
    "        print(df_comb['ref_image_path'].loc[i])\n",
    "        test_image_path = df_comb['ref_image_path'].loc[i].split(\"/\")\n",
    "        test_image_path.insert(-1, 'annotated/test')\n",
    "        annotated_image_path = \"/\".join(test_image_path)\n",
    "        wi = Image.open(f\"../{annotated_image_path}\")\n",
    "        w, h = wi.size\n",
    "        wi = wi.resize((160,160))\n",
    "        draw = ImageDraw.Draw(wi)\n",
    "        draw.text((20,20),\"Bouldrama\", (255,255,255))\n",
    "        draw.text((20,30),f\"error: {error:.2f}\", (255,255,255))\n",
    "        x, y = df_comb[k.replace(\"diff\", \"test\")].loc[i]\n",
    "        x, y = (x/w)*160, (y/h)*160\n",
    "        # draw.rectangle((10, 10, 100, 100), fill =\"#ffff33\", outline =\"red\")\n",
    "        pointer_size=2\n",
    "        draw.rectangle((x-pointer_size, y-pointer_size, x+pointer_size, y+pointer_size), fill =\"#ffff33\", outline =\"red\")\n",
    "\n",
    "        worsts_image.paste(\n",
    "            wi,\n",
    "            (x_offset, 0),\n",
    "        )\n",
    "        x_offset += 160\n",
    "    x_offset = 0\n",
    "    for i, error in v:\n",
    "        test_image_path = df_comb['ref_image_path'].loc[i].split(\"/\")\n",
    "        test_image_path.insert(-1, 'annotated/ref')\n",
    "        annotated_image_path = \"/\".join(test_image_path)\n",
    "        wi = Image.open(f\"../{annotated_image_path}\")\n",
    "        w, h = wi.size\n",
    "        wi = wi.resize((160,160))\n",
    "        draw = ImageDraw.Draw(wi)\n",
    "        draw.text((20,20),\"Ref\", (255,255,255))\n",
    "        draw.text((20,30),f\"error: {error:.2f}\", (255,255,255))\n",
    "        x, y = df_comb[k.replace(\"diff\", \"ref\")].loc[i]\n",
    "        x, y = (x/w)*160, (y/h)*160\n",
    "        # draw.rectangle((10, 10, 100, 100), fill =\"#ffff33\", outline =\"red\")\n",
    "        pointer_size=2\n",
    "        draw.rectangle((x-pointer_size, y-pointer_size, x+pointer_size, y+pointer_size), fill =\"#ffff33\", outline =\"red\")\n",
    "        worsts_image.paste(\n",
    "            wi,\n",
    "            (x_offset, 160),\n",
    "        )\n",
    "        x_offset += 160\n",
    "    worsts_image.save(f\"{dst_dir}/worst_{worst_n}_pixel_{k}.png\")"
   ]
  },
  {
   "cell_type": "code",
   "execution_count": 21,
   "metadata": {},
   "outputs": [
    {
     "name": "stdout",
     "output_type": "stream",
     "text": [
      "ffmpeg -framerate 25 -i \"/Users/benjamin/projects/keypoint-tracking/results/IMG_1094/annotated/ref/frame_%3d.png\" -c:v libx264 -pix_fmt yuv420p \"/Users/benjamin/projects/keypoint-tracking/comparisons/IMG_1094/3773fy6g - 2021-10-10T12:06:19.844863/ref.mov\"\n",
      "ffmpeg -framerate 25 -i \"/Users/benjamin/projects/keypoint-tracking/results/IMG_1094/annotated/test/frame_%3d.png\" -c:v libx264 -pix_fmt yuv420p \"/Users/benjamin/projects/keypoint-tracking/comparisons/IMG_1094/3773fy6g - 2021-10-10T12:06:19.844863/test.mov\"\n"
     ]
    }
   ],
   "source": [
    "# import subprocess\n",
    "# import shlex\n",
    "# import os\n",
    "# cmd = f\"ffmpeg -framerate 25 -i \\'{os.fsdecode(ref_data_path.absolute())}/frame_%d.png\\' -c:v libx264 -pix_fmt yuv420p ref.mov\"\n",
    "# subprocess.check_call(shlex.split(cmd))\n",
    "import os\n",
    "print(f\"ffmpeg -framerate 25 -i \\\"/Users/benjamin/projects/keypoint-tracking/results/{input_data_name}/annotated/ref/frame_%3d.png\\\" -c:v libx264 -pix_fmt yuv420p \\\"/Users/benjamin/projects/keypoint-tracking/comparisons/{input_data_name}/{Path(dst_dir).stem}{Path(dst_dir).suffix}/ref.mov\\\"\")\n",
    "print(f\"ffmpeg -framerate 25 -i \\\"/Users/benjamin/projects/keypoint-tracking/results/{input_data_name}/annotated/test/frame_%3d.png\\\" -c:v libx264 -pix_fmt yuv420p \\\"/Users/benjamin/projects/keypoint-tracking/comparisons/{input_data_name}/{Path(dst_dir).stem}{Path(dst_dir).suffix}/test.mov\\\"\")\n"
   ]
  },
  {
   "cell_type": "code",
   "execution_count": null,
   "metadata": {},
   "outputs": [],
   "source": []
  },
  {
   "cell_type": "code",
   "execution_count": null,
   "metadata": {},
   "outputs": [],
   "source": []
  },
  {
   "cell_type": "code",
   "execution_count": null,
   "metadata": {},
   "outputs": [],
   "source": []
  }
 ],
 "metadata": {
  "interpreter": {
   "hash": "d58f9e0e7627cc282a643e7fbd31aeaa60457ff425f78b031057da983c7326c7"
  },
  "kernelspec": {
   "display_name": "Python 3.8.6 64-bit ('ml38': pyenv)",
   "name": "python3"
  },
  "language_info": {
   "codemirror_mode": {
    "name": "ipython",
    "version": 3
   },
   "file_extension": ".py",
   "mimetype": "text/x-python",
   "name": "python",
   "nbconvert_exporter": "python",
   "pygments_lexer": "ipython3",
   "version": "3.8.6"
  },
  "orig_nbformat": 4
 },
 "nbformat": 4,
 "nbformat_minor": 2
}
